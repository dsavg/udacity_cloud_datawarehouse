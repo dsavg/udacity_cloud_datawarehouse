{
 "cells": [
  {
   "cell_type": "code",
   "execution_count": 1,
   "metadata": {
    "editable": true
   },
   "outputs": [],
   "source": [
    "import time\n",
    "import pandas as pd\n",
    "import boto3\n",
    "import json\n",
    "import configparser"
   ]
  },
  {
   "cell_type": "code",
   "execution_count": 2,
   "metadata": {
    "editable": true
   },
   "outputs": [],
   "source": [
    "config = configparser.ConfigParser()\n",
    "config.read_file(open('creds.cfg'))\n",
    "\n",
    "KEY                    = config.get('AWS','KEY')\n",
    "SECRET                 = config.get('AWS','SECRET')"
   ]
  },
  {
   "cell_type": "code",
   "execution_count": 3,
   "metadata": {
    "editable": true
   },
   "outputs": [],
   "source": [
    "config.read_file(open('dwh.cfg'))\n",
    "\n",
    "DB_IDENTIFIER          = config.get(\"CLUSTER\",\"DB_IDENTIFIER\")\n",
    "DB_NAME                = config.get(\"CLUSTER\",\"DB_NAME\")\n",
    "DB_USER                = config.get(\"CLUSTER\",\"DB_USER\")\n",
    "DB_PASSWORD            = config.get(\"CLUSTER\",\"DB_PASSWORD\")\n",
    "DB_PORT                = config.get(\"CLUSTER\",\"DB_PORT\")\n",
    "HOST                   = config.get(\"CLUSTER\",\"HOST\")\n",
    "\n",
    "IAM_ROLE_NAME          = config.get(\"IAM_ROLE\", \"IAM_ROLE_NAME\")\n",
    "ROLE_ARN               = config.get(\"IAM_ROLE\", \"ARN\")\n",
    "\n",
    "LOG_DATA               = config.get(\"S3\", \"LOG_DATA\")\n",
    "LOG_JSONPATH           = config.get(\"S3\", \"LOG_JSONPATH\")\n",
    "SONG_DATA              = config.get(\"S3\", \"SONG_DATA\")"
   ]
  },
  {
   "cell_type": "code",
   "execution_count": 4,
   "metadata": {
    "editable": true
   },
   "outputs": [],
   "source": [
    "# create redshift client\n",
    "redshift = boto3.client('redshift',\n",
    "                        region_name='us-west-2', \n",
    "                        aws_access_key_id=KEY, \n",
    "                        aws_secret_access_key=SECRET\n",
    "                       )\n",
    "\n",
    "# create iam client\n",
    "iam = boto3.client('iam',\n",
    "                    region_name='us-west-2', \n",
    "                    aws_access_key_id=KEY, \n",
    "                    aws_secret_access_key=SECRET\n",
    "                   )"
   ]
  },
  {
   "cell_type": "code",
   "execution_count": 6,
   "metadata": {
    "editable": true
   },
   "outputs": [],
   "source": [
    "# # delete cluster \n",
    "redshift.delete_cluster(ClusterIdentifier=DB_IDENTIFIER, \n",
    "                        SkipFinalClusterSnapshot=True)"
   ]
  },
  {
   "cell_type": "code",
   "execution_count": 7,
   "metadata": {
    "editable": true
   },
   "outputs": [],
   "source": [
    "# check if the cluster is available\n",
    "def prettyRedshiftProps(props):\n",
    "    pd.set_option('display.max_colwidth', -1)\n",
    "    keysToShow = [\"ClusterIdentifier\", \"NodeType\", \"ClusterStatus\", \n",
    "                  \"MasterUsername\", \"DBName\", \"Endpoint\", \n",
    "                  \"NumberOfNodes\", 'VpcId']\n",
    "    x = [(k, v) for k,v in props.items() if k in keysToShow]\n",
    "    return pd.DataFrame(data=x, columns=[\"Key\", \"Value\"])"
   ]
  },
  {
   "cell_type": "code",
   "execution_count": 8,
   "metadata": {
    "editable": true
   },
   "outputs": [
    {
     "name": "stdout",
     "output_type": "stream",
     "text": [
      "An error occurred (ClusterNotFound) when calling the DescribeClusters operation: Cluster dwhcluster not found.\n"
     ]
    }
   ],
   "source": [
    "while True:\n",
    "    try:\n",
    "        myClusterProps = (redshift\n",
    "                          .describe_clusters(ClusterIdentifier=DB_IDENTIFIER)\n",
    "                          ['Clusters'][0])\n",
    "        prettyRedshiftProps(myClusterProps)\n",
    "        time.sleep(10)\n",
    "\n",
    "    except Exception as e:\n",
    "        print(e)\n",
    "        break"
   ]
  },
  {
   "cell_type": "code",
   "execution_count": 10,
   "metadata": {
    "editable": true
   },
   "outputs": [],
   "source": [
    "# delete the created resources\n",
    "iam.detach_role_policy(RoleName=IAM_ROLE_NAME, PolicyArn=\"arn:aws:iam::aws:policy/AmazonS3ReadOnlyAccess\")\n",
    "iam.delete_role(RoleName=IAM_ROLE_NAME)"
   ]
  }
 ],
 "metadata": {
  "kernelspec": {
   "display_name": "Python 3",
   "language": "python",
   "name": "python3"
  },
  "language_info": {
   "codemirror_mode": {
    "name": "ipython",
    "version": 3.0
   },
   "file_extension": ".py",
   "mimetype": "text/x-python",
   "name": "python",
   "nbconvert_exporter": "python",
   "pygments_lexer": "ipython3",
   "version": "3.6.3"
  }
 },
 "nbformat": 4,
 "nbformat_minor": 0
}